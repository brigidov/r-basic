{
 "cells": [
  {
   "cell_type": "markdown",
   "metadata": {},
   "source": [
    "# Escribe una secuencia de instrucciones que permitan leer un número real por pantalla y que muestre si el número es positivo o no."
   ]
  },
  {
   "cell_type": "code",
   "execution_count": 155,
   "metadata": {},
   "outputs": [
    {
     "name": "stdout",
     "output_type": "stream",
     "text": [
      "Escribe un numero: 32423424\n",
      "El numero 32423424.0 es positivo.\n"
     ]
    }
   ],
   "source": [
    "numero = float(input('Escribe un numero: '))\n",
    "if numero > 0:\n",
    "    print('El numero {} es positivo.'.format(numero))\n",
    "else:\n",
    "    print('El numero {} es negativo.'.format(numero))"
   ]
  },
  {
   "cell_type": "markdown",
   "metadata": {},
   "source": [
    "# Escribe una secuencia de instrucciones que permitan leer un número real por pantalla y que muestre si el número está en el rango entre -5 y 5"
   ]
  },
  {
   "cell_type": "code",
   "execution_count": 161,
   "metadata": {},
   "outputs": [
    {
     "name": "stdout",
     "output_type": "stream",
     "text": [
      "Escribe un numero: 5\n",
      "El numero 5.0 esta en el rango de -5 a 5.\n"
     ]
    }
   ],
   "source": [
    "numero = float(input('Escribe un numero: '))\n",
    "if numero in range(-5,6):\n",
    "    print('El numero {} esta en el rango de -5 a 5.'.format(numero))\n",
    "else:\n",
    "    print('El numero {} no esta en el rango de -5 a 5.'.format(numero))"
   ]
  },
  {
   "cell_type": "markdown",
   "metadata": {},
   "source": [
    "# Escribe una secuencia de instrucciones que permitan leer las coordenadas de un punto (x, y) e indique en cuál de los cuatro cuadrantes se encuentra dicho punto."
   ]
  },
  {
   "cell_type": "code",
   "execution_count": 163,
   "metadata": {},
   "outputs": [
    {
     "name": "stdout",
     "output_type": "stream",
     "text": [
      "Escribe las coordenadas X e Y separadas por una coma: 6,2\n",
      "El punto (6,2) esta en el primer cuadrante.\n"
     ]
    }
   ],
   "source": [
    "coordenadas = list(input('Escribe las coordenadas X e Y separadas por una coma: ').split(','))\n",
    "x=(int(coordenadas[0]))\n",
    "y=(int(coordenadas[1]))\n",
    "\n",
    "if x>0 and y>0:\n",
    "    print('El punto ({},{}) esta en el primer cuadrante.'.format(x,y))\n",
    "elif x<0 and y>0:\n",
    "    print('El punto ({},{}) esta en el segundo cuadrante.'.format(x,y))\n",
    "elif x<0 and y<0:\n",
    "    print('El punto ({},{}) esta en el tercer cuadrante.'.format(x,y))\n",
    "elif x==0 and y==0:\n",
    "    print('El punto ({},{}) esta en el origen de coordenadas.'.format(x,y))\n",
    "else:\n",
    "    print('El punto ({},{}) esta en el cuarto cuadrante.'.format(x,y))\n"
   ]
  },
  {
   "cell_type": "markdown",
   "metadata": {},
   "source": [
    "## Escribe una secuencia de instrucciones que permitan leer dos números enteros y muestre el cociente de la división entera y el resto."
   ]
  },
  {
   "cell_type": "code",
   "execution_count": 165,
   "metadata": {},
   "outputs": [
    {
     "name": "stdout",
     "output_type": "stream",
     "text": [
      "Escribe dividendo y el divisor separados por una barra \"/\": 2/3\n",
      "El cociente de la division entera es 0 y con resto igual a 2.\n"
     ]
    }
   ],
   "source": [
    "nro_enteros = list(input('Escribe dividendo y el divisor separados por una barra \"/\": ').split('/'))\n",
    "x=(int(nro_enteros[0]))\n",
    "y=(int(nro_enteros[1]))\n",
    "cde = x//y\n",
    "rde = x%y\n",
    "\n",
    "print('El cociente de la division entera es {} y con resto igual a {}.'.format(cde,rde))"
   ]
  },
  {
   "cell_type": "markdown",
   "metadata": {},
   "source": [
    "### Escribe una secuencia de instrucciones que permitan leer un número entero es cuadrado perfecto o no (piensa la mejor forma de hacerlo con lo que has aprendido hasta ahora)"
   ]
  },
  {
   "cell_type": "code",
   "execution_count": 172,
   "metadata": {},
   "outputs": [
    {
     "name": "stdout",
     "output_type": "stream",
     "text": [
      "Escribe un numero: 5\n",
      "5 no es un cuadrado perfecto\n"
     ]
    }
   ],
   "source": [
    "import math\n",
    "\n",
    "numero= int(input('Escribe un numero: '))\n",
    "\n",
    "if math.sqrt(numero)**2==numero:\n",
    "    print('{} es un cuadrado perfecto'.format(numero))\n",
    "else:\n",
    "    print('{} no es un cuadrado perfecto'.format(numero))"
   ]
  },
  {
   "cell_type": "markdown",
   "metadata": {},
   "source": [
    "# Escribe una expresión que permita determinar si un número entero positivo puede corresponder a un año bisiesto o no. Se consideran años bisiestos aquellos cuyo número es divisible por cuatro excepto los años que son múltiplos de 100, a no ser que lo sean de 400 (por ejemplo el año 2000 fue bisiesto pero el 2100 no lo será)."
   ]
  },
  {
   "cell_type": "code",
   "execution_count": 167,
   "metadata": {},
   "outputs": [
    {
     "name": "stdout",
     "output_type": "stream",
     "text": [
      "Escribe el año: 584\n",
      "El año 584 es bisiesto.\n"
     ]
    }
   ],
   "source": [
    "year = int(input('Escribe el año: '))\n",
    "\n",
    "if year%400 == 0:\n",
    "    print('El año {} es bisiesto.'.format(year))\n",
    "    \n",
    "elif year%4 ==0 and year%100 != 0:\n",
    "    print('El año {} es bisiesto.'.format(year))\n",
    "\n",
    "else:\n",
    "    print('El año {} no es bisiesto.'.format(year))\n",
    "\n"
   ]
  },
  {
   "cell_type": "markdown",
   "metadata": {},
   "source": [
    "# Busca la imagen de un tablero de ajedrez en Google y fíjate en la nomenclatura de las casillas. Escribe una expresión lea una letra y un número de teclado correspondiente a una casilla de un tablero de ajedrez y nos indique si esta casilla es negra o blanca."
   ]
  },
  {
   "cell_type": "code",
   "execution_count": 154,
   "metadata": {},
   "outputs": [
    {
     "name": "stdout",
     "output_type": "stream",
     "text": [
      "Escribe una letra entre A y H: B\n",
      "Escribe un numero entre 1 y 8: 3\n",
      "B3 corresponde a un espacio blanco.\n"
     ]
    }
   ],
   "source": [
    "letra = input('Escribe una letra entre A y H: ')\n",
    "numero = int(input('Escribe un numero entre 1 y 8: '))\n",
    "\n",
    "if letra == 'A' and numero%2==0 or letra == 'C' and numero%2==0 or letra == 'E' and numero%2==0 or letra == 'G' and numero%2==0:\n",
    "    print ('{}{} corresponde a un espacio blanco.'.format(letra, str(numero)))\n",
    "\n",
    "elif letra == 'B' and numero%2!=0 or letra == 'D' and numero%2!=0 or letra == 'F' and numero%2!=0 or letra == 'H' and numero%2!=0:\n",
    "    print ('{}{} corresponde a un espacio blanco.'.format(letra, str(numero)))\n",
    "else:\n",
    "    print ('{}{} corresponde a un espacio negro.'.format(letra,str(numero)))\n",
    "    \n",
    "\n"
   ]
  },
  {
   "cell_type": "code",
   "execution_count": null,
   "metadata": {},
   "outputs": [],
   "source": []
  }
 ],
 "metadata": {
  "kernelspec": {
   "display_name": "Python 3",
   "language": "python",
   "name": "python3"
  },
  "language_info": {
   "codemirror_mode": {
    "name": "ipython",
    "version": 3
   },
   "file_extension": ".py",
   "mimetype": "text/x-python",
   "name": "python",
   "nbconvert_exporter": "python",
   "pygments_lexer": "ipython3",
   "version": "3.7.6"
  }
 },
 "nbformat": 4,
 "nbformat_minor": 4
}
