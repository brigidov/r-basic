{
 "cells": [
  {
   "cell_type": "code",
   "execution_count": 112,
   "metadata": {},
   "outputs": [],
   "source": [
    "import numpy as np\n",
    "import pandas as pd"
   ]
  },
  {
   "cell_type": "code",
   "execution_count": 220,
   "metadata": {},
   "outputs": [
    {
     "data": {
      "text/plain": [
       "<filter at 0x247ff0f8e48>"
      ]
     },
     "execution_count": 220,
     "metadata": {},
     "output_type": "execute_result"
    }
   ],
   "source": [
    "df = pd.read_csv(\"../data/run.csv\")\n",
    "df\n",
    "\n",
    "haceDeporte = filter( df, df[\"hace.deporte\"] == \"si\")\n",
    "haceDeporte"
   ]
  },
  {
   "cell_type": "code",
   "execution_count": 114,
   "metadata": {},
   "outputs": [
    {
     "data": {
      "text/html": [
       "<div>\n",
       "<style scoped>\n",
       "    .dataframe tbody tr th:only-of-type {\n",
       "        vertical-align: middle;\n",
       "    }\n",
       "\n",
       "    .dataframe tbody tr th {\n",
       "        vertical-align: top;\n",
       "    }\n",
       "\n",
       "    .dataframe thead th {\n",
       "        text-align: right;\n",
       "    }\n",
       "</style>\n",
       "<table border=\"1\" class=\"dataframe\">\n",
       "  <thead>\n",
       "    <tr style=\"text-align: right;\">\n",
       "      <th></th>\n",
       "      <th>count</th>\n",
       "      <th>mean</th>\n",
       "      <th>std</th>\n",
       "      <th>min</th>\n",
       "      <th>25%</th>\n",
       "      <th>50%</th>\n",
       "      <th>75%</th>\n",
       "      <th>max</th>\n",
       "    </tr>\n",
       "  </thead>\n",
       "  <tbody>\n",
       "    <tr>\n",
       "      <th>Unnamed: 0</th>\n",
       "      <td>92.0</td>\n",
       "      <td>46.500000</td>\n",
       "      <td>26.702060</td>\n",
       "      <td>1.0</td>\n",
       "      <td>23.75</td>\n",
       "      <td>46.5</td>\n",
       "      <td>69.25</td>\n",
       "      <td>92.0</td>\n",
       "    </tr>\n",
       "    <tr>\n",
       "      <th>pulso.antes</th>\n",
       "      <td>92.0</td>\n",
       "      <td>72.869565</td>\n",
       "      <td>11.008705</td>\n",
       "      <td>48.0</td>\n",
       "      <td>64.00</td>\n",
       "      <td>71.0</td>\n",
       "      <td>80.00</td>\n",
       "      <td>100.0</td>\n",
       "    </tr>\n",
       "    <tr>\n",
       "      <th>pulso.despues</th>\n",
       "      <td>92.0</td>\n",
       "      <td>80.000000</td>\n",
       "      <td>17.093794</td>\n",
       "      <td>50.0</td>\n",
       "      <td>68.00</td>\n",
       "      <td>76.0</td>\n",
       "      <td>85.00</td>\n",
       "      <td>140.0</td>\n",
       "    </tr>\n",
       "    <tr>\n",
       "      <th>altura</th>\n",
       "      <td>92.0</td>\n",
       "      <td>68.717391</td>\n",
       "      <td>3.659291</td>\n",
       "      <td>61.0</td>\n",
       "      <td>66.00</td>\n",
       "      <td>69.0</td>\n",
       "      <td>72.00</td>\n",
       "      <td>75.0</td>\n",
       "    </tr>\n",
       "    <tr>\n",
       "      <th>peso</th>\n",
       "      <td>92.0</td>\n",
       "      <td>145.152174</td>\n",
       "      <td>23.739398</td>\n",
       "      <td>95.0</td>\n",
       "      <td>125.00</td>\n",
       "      <td>145.0</td>\n",
       "      <td>155.50</td>\n",
       "      <td>215.0</td>\n",
       "    </tr>\n",
       "  </tbody>\n",
       "</table>\n",
       "</div>"
      ],
      "text/plain": [
       "               count        mean        std   min     25%    50%     75%  \\\n",
       "Unnamed: 0      92.0   46.500000  26.702060   1.0   23.75   46.5   69.25   \n",
       "pulso.antes     92.0   72.869565  11.008705  48.0   64.00   71.0   80.00   \n",
       "pulso.despues   92.0   80.000000  17.093794  50.0   68.00   76.0   85.00   \n",
       "altura          92.0   68.717391   3.659291  61.0   66.00   69.0   72.00   \n",
       "peso            92.0  145.152174  23.739398  95.0  125.00  145.0  155.50   \n",
       "\n",
       "                 max  \n",
       "Unnamed: 0      92.0  \n",
       "pulso.antes    100.0  \n",
       "pulso.despues  140.0  \n",
       "altura          75.0  \n",
       "peso           215.0  "
      ]
     },
     "execution_count": 114,
     "metadata": {},
     "output_type": "execute_result"
    }
   ],
   "source": [
    "df.describe().transpose()"
   ]
  },
  {
   "cell_type": "code",
   "execution_count": 115,
   "metadata": {},
   "outputs": [],
   "source": [
    "#Hay 92 estudiantes"
   ]
  },
  {
   "cell_type": "code",
   "execution_count": 116,
   "metadata": {},
   "outputs": [
    {
     "data": {
      "text/html": [
       "<div>\n",
       "<style scoped>\n",
       "    .dataframe tbody tr th:only-of-type {\n",
       "        vertical-align: middle;\n",
       "    }\n",
       "\n",
       "    .dataframe tbody tr th {\n",
       "        vertical-align: top;\n",
       "    }\n",
       "\n",
       "    .dataframe thead th {\n",
       "        text-align: right;\n",
       "    }\n",
       "</style>\n",
       "<table border=\"1\" class=\"dataframe\">\n",
       "  <thead>\n",
       "    <tr style=\"text-align: right;\">\n",
       "      <th></th>\n",
       "      <th>Unnamed: 0</th>\n",
       "      <th>pulso.antes</th>\n",
       "      <th>pulso.despues</th>\n",
       "      <th>hace.deporte</th>\n",
       "      <th>fuma</th>\n",
       "      <th>genero</th>\n",
       "      <th>altura</th>\n",
       "      <th>peso</th>\n",
       "      <th>tipo.actividad</th>\n",
       "    </tr>\n",
       "    <tr>\n",
       "      <th>genero</th>\n",
       "      <th></th>\n",
       "      <th></th>\n",
       "      <th></th>\n",
       "      <th></th>\n",
       "      <th></th>\n",
       "      <th></th>\n",
       "      <th></th>\n",
       "      <th></th>\n",
       "      <th></th>\n",
       "    </tr>\n",
       "  </thead>\n",
       "  <tbody>\n",
       "    <tr>\n",
       "      <th>H</th>\n",
       "      <td>57</td>\n",
       "      <td>19</td>\n",
       "      <td>24</td>\n",
       "      <td>2</td>\n",
       "      <td>2</td>\n",
       "      <td>1</td>\n",
       "      <td>13</td>\n",
       "      <td>23</td>\n",
       "      <td>4</td>\n",
       "    </tr>\n",
       "    <tr>\n",
       "      <th>M</th>\n",
       "      <td>35</td>\n",
       "      <td>20</td>\n",
       "      <td>22</td>\n",
       "      <td>2</td>\n",
       "      <td>2</td>\n",
       "      <td>1</td>\n",
       "      <td>13</td>\n",
       "      <td>20</td>\n",
       "      <td>3</td>\n",
       "    </tr>\n",
       "  </tbody>\n",
       "</table>\n",
       "</div>"
      ],
      "text/plain": [
       "        Unnamed: 0  pulso.antes  pulso.despues  hace.deporte  fuma  genero  \\\n",
       "genero                                                                       \n",
       "H               57           19             24             2     2       1   \n",
       "M               35           20             22             2     2       1   \n",
       "\n",
       "        altura  peso  tipo.actividad  \n",
       "genero                                \n",
       "H           13    23               4  \n",
       "M           13    20               3  "
      ]
     },
     "execution_count": 116,
     "metadata": {},
     "output_type": "execute_result"
    }
   ],
   "source": [
    "df.groupby('genero').nunique()"
   ]
  },
  {
   "cell_type": "code",
   "execution_count": 117,
   "metadata": {},
   "outputs": [],
   "source": [
    "#Hay 57 hombres y 35 mujeres"
   ]
  },
  {
   "cell_type": "markdown",
   "metadata": {},
   "source": [
    "# Calcula el porcentaje medio de variación del pulso por minuto entre antes y después de hacer ejercicio y compara el valor de los que hacen ejercicio habitualmente y los que no. ¿Observas mucha diferencia?"
   ]
  },
  {
   "cell_type": "code",
   "execution_count": 212,
   "metadata": {},
   "outputs": [
    {
     "name": "stdout",
     "output_type": "stream",
     "text": [
      "La media de las vaciacion porcentual del pulso es 10.103038788471402 %\n"
     ]
    }
   ],
   "source": [
    "df2 = df.rename(columns = {\"Unnamed: 0\":\"codigo\", \n",
    "                           \"pulso.antes\":\"pulso1\", \n",
    "                           \"pulso.despues\":\"pulso2\",\n",
    "                           \"hace.deporte\":\"deportista\", \n",
    "                           \"tipo.actividad\":\"actividad\"})\n",
    "\n",
    "df2\n",
    "\n",
    "df2[\"varpulse\"] = (df2[\"pulso2\"] - df2[\"pulso1\"])/df2[\"pulso1\"]\n",
    "\n",
    "df2\n",
    "\n",
    "df2[\"varpulse\"].mean()\n",
    "\n",
    "print('La media de las vaciacion porcentual del pulso es {} %'.format(df2[\"varpulse\"].mean()*100))\n",
    "\n"
   ]
  },
  {
   "cell_type": "code",
   "execution_count": 215,
   "metadata": {},
   "outputs": [
    {
     "data": {
      "text/html": [
       "<div>\n",
       "<style scoped>\n",
       "    .dataframe tbody tr th:only-of-type {\n",
       "        vertical-align: middle;\n",
       "    }\n",
       "\n",
       "    .dataframe tbody tr th {\n",
       "        vertical-align: top;\n",
       "    }\n",
       "\n",
       "    .dataframe thead th {\n",
       "        text-align: right;\n",
       "    }\n",
       "</style>\n",
       "<table border=\"1\" class=\"dataframe\">\n",
       "  <thead>\n",
       "    <tr style=\"text-align: right;\">\n",
       "      <th></th>\n",
       "      <th>codigo</th>\n",
       "      <th>pulso1</th>\n",
       "      <th>pulso2</th>\n",
       "      <th>altura</th>\n",
       "      <th>peso</th>\n",
       "      <th>varpulse</th>\n",
       "    </tr>\n",
       "    <tr>\n",
       "      <th>deportista</th>\n",
       "      <th></th>\n",
       "      <th></th>\n",
       "      <th></th>\n",
       "      <th></th>\n",
       "      <th></th>\n",
       "      <th></th>\n",
       "    </tr>\n",
       "  </thead>\n",
       "  <tbody>\n",
       "    <tr>\n",
       "      <th>no</th>\n",
       "      <td>47.017544</td>\n",
       "      <td>72.421053</td>\n",
       "      <td>72.315789</td>\n",
       "      <td>68.065789</td>\n",
       "      <td>141.122807</td>\n",
       "      <td>0.002095</td>\n",
       "    </tr>\n",
       "    <tr>\n",
       "      <th>si</th>\n",
       "      <td>45.657143</td>\n",
       "      <td>73.600000</td>\n",
       "      <td>92.514286</td>\n",
       "      <td>69.778571</td>\n",
       "      <td>151.714286</td>\n",
       "      <td>0.262154</td>\n",
       "    </tr>\n",
       "  </tbody>\n",
       "</table>\n",
       "</div>"
      ],
      "text/plain": [
       "               codigo     pulso1     pulso2     altura        peso  varpulse\n",
       "deportista                                                                  \n",
       "no          47.017544  72.421053  72.315789  68.065789  141.122807  0.002095\n",
       "si          45.657143  73.600000  92.514286  69.778571  151.714286  0.262154"
      ]
     },
     "execution_count": 215,
     "metadata": {},
     "output_type": "execute_result"
    }
   ],
   "source": [
    "df2\n",
    "df2.groupby(\"deportista\").mean()\n",
    "\n",
    "#otra forma\n",
    "# df2\n",
    "# df2.groupby(\"deportista\")[\"varpulse\"].mean()\n",
    "\n",
    "\n"
   ]
  },
  {
   "cell_type": "code",
   "execution_count": 120,
   "metadata": {},
   "outputs": [],
   "source": [
    "# Los que no hacen ejercicio tienen un variacion de pulso media muy baja de 0.2 % \n",
    "# mientras que los que hacen ejercicio tienen un porcentaje de variacion que ronda el 26%\n",
    "# existiendo una diferencia significativa entre los que hacen ejercicio y los que no."
   ]
  },
  {
   "cell_type": "markdown",
   "metadata": {},
   "source": [
    "# Calcula el porcentaje medio de variación del pulso por minuto entre antes y después de hacer ejercicio  para los estudiantes que hacen ejercicio habitualmente y compara el valor de los hombres con el de las mujeres. ¿Observas mucha diferencia?"
   ]
  },
  {
   "cell_type": "code",
   "execution_count": 177,
   "metadata": {},
   "outputs": [
    {
     "name": "stdout",
     "output_type": "stream",
     "text": [
      "0.26215407303688487\n"
     ]
    },
    {
     "data": {
      "text/html": [
       "<div>\n",
       "<style scoped>\n",
       "    .dataframe tbody tr th:only-of-type {\n",
       "        vertical-align: middle;\n",
       "    }\n",
       "\n",
       "    .dataframe tbody tr th {\n",
       "        vertical-align: top;\n",
       "    }\n",
       "\n",
       "    .dataframe thead th {\n",
       "        text-align: right;\n",
       "    }\n",
       "</style>\n",
       "<table border=\"1\" class=\"dataframe\">\n",
       "  <thead>\n",
       "    <tr style=\"text-align: right;\">\n",
       "      <th></th>\n",
       "      <th>codigo</th>\n",
       "      <th>pulso1</th>\n",
       "      <th>pulso2</th>\n",
       "      <th>altura</th>\n",
       "      <th>peso</th>\n",
       "      <th>varpulse</th>\n",
       "    </tr>\n",
       "    <tr>\n",
       "      <th>genero</th>\n",
       "      <th></th>\n",
       "      <th></th>\n",
       "      <th></th>\n",
       "      <th></th>\n",
       "      <th></th>\n",
       "      <th></th>\n",
       "    </tr>\n",
       "  </thead>\n",
       "  <tbody>\n",
       "    <tr>\n",
       "      <th>H</th>\n",
       "      <td>38.083333</td>\n",
       "      <td>70.250000</td>\n",
       "      <td>83.208333</td>\n",
       "      <td>71.229167</td>\n",
       "      <td>162.000000</td>\n",
       "      <td>0.191769</td>\n",
       "    </tr>\n",
       "    <tr>\n",
       "      <th>M</th>\n",
       "      <td>62.181818</td>\n",
       "      <td>80.909091</td>\n",
       "      <td>112.818182</td>\n",
       "      <td>66.613636</td>\n",
       "      <td>129.272727</td>\n",
       "      <td>0.415722</td>\n",
       "    </tr>\n",
       "  </tbody>\n",
       "</table>\n",
       "</div>"
      ],
      "text/plain": [
       "           codigo     pulso1      pulso2     altura        peso  varpulse\n",
       "genero                                                                   \n",
       "H       38.083333  70.250000   83.208333  71.229167  162.000000  0.191769\n",
       "M       62.181818  80.909091  112.818182  66.613636  129.272727  0.415722"
      ]
     },
     "execution_count": 177,
     "metadata": {},
     "output_type": "execute_result"
    }
   ],
   "source": [
    "# Para filtrar con base en los que hacen ejercicios y los que no, se realiza un for lopp para crear una lista en donde\n",
    "# si el estudiante hace deporte, se agrega el boolean True a la lista depor. Caso contrario se agrega False.\n",
    "\n",
    "# Luego, se transforma la lista depor a un objeto de pandas mediante la expresion depor_bools = pd.Series(depor).\n",
    "\n",
    "# Finalmente se crea df3 teniendo como base df2[depor]. Esta expresion creara un nuevo data frame con las filas cuyos \n",
    "# valores en la columna deportista sean \"si\"\n",
    "\n",
    "depor = []\n",
    "for dep in df2.deportista:\n",
    "    if dep == \"si\":\n",
    "        depor.append(True)\n",
    "    else:\n",
    "        depor.append(False)\n",
    "    \n",
    "depor[0:10]\n",
    "\n",
    "depor_bools = pd.Series(depor)\n",
    "\n",
    "df3 = df2[depor]\n",
    "\n",
    "print(df3.varpulse.mean())\n",
    "\n",
    "df3.groupby(\"genero\").mean()\n",
    "        "
   ]
  },
  {
   "cell_type": "code",
   "execution_count": null,
   "metadata": {},
   "outputs": [],
   "source": [
    "# El vaor porcentual medio de la variacion del pulso entre hombres y mujeres que hacen ejercicio es 41.5 y 19.17% \n",
    "# respectivamente, obrservandose que las mujeres tienen un aumento del pulso aproximadamente dos veces mayor que el de los hombres."
   ]
  },
  {
   "cell_type": "markdown",
   "metadata": {},
   "source": [
    "# Calcula el porcentaje medio de variación del pulso por minuto entre antes y después de hacer ejercicio para los estudiantes que no hacen ejercicio habitualmente y compara el valor de los fumadores con los no fumadores. ¿Observas mucha diferencia?"
   ]
  },
  {
   "cell_type": "code",
   "execution_count": 191,
   "metadata": {},
   "outputs": [
    {
     "name": "stdout",
     "output_type": "stream",
     "text": [
      "0.0020947917386441124\n"
     ]
    },
    {
     "data": {
      "text/html": [
       "<div>\n",
       "<style scoped>\n",
       "    .dataframe tbody tr th:only-of-type {\n",
       "        vertical-align: middle;\n",
       "    }\n",
       "\n",
       "    .dataframe tbody tr th {\n",
       "        vertical-align: top;\n",
       "    }\n",
       "\n",
       "    .dataframe thead th {\n",
       "        text-align: right;\n",
       "    }\n",
       "</style>\n",
       "<table border=\"1\" class=\"dataframe\">\n",
       "  <thead>\n",
       "    <tr style=\"text-align: right;\">\n",
       "      <th></th>\n",
       "      <th>codigo</th>\n",
       "      <th>pulso1</th>\n",
       "      <th>pulso2</th>\n",
       "      <th>altura</th>\n",
       "      <th>peso</th>\n",
       "      <th>varpulse</th>\n",
       "    </tr>\n",
       "    <tr>\n",
       "      <th>fuma</th>\n",
       "      <th></th>\n",
       "      <th></th>\n",
       "      <th></th>\n",
       "      <th></th>\n",
       "      <th></th>\n",
       "      <th></th>\n",
       "    </tr>\n",
       "  </thead>\n",
       "  <tbody>\n",
       "    <tr>\n",
       "      <th>no</th>\n",
       "      <td>45.512195</td>\n",
       "      <td>71.707317</td>\n",
       "      <td>71.512195</td>\n",
       "      <td>68.079268</td>\n",
       "      <td>138.195122</td>\n",
       "      <td>-0.000648</td>\n",
       "    </tr>\n",
       "    <tr>\n",
       "      <th>si</th>\n",
       "      <td>50.875000</td>\n",
       "      <td>74.250000</td>\n",
       "      <td>74.375000</td>\n",
       "      <td>68.031250</td>\n",
       "      <td>148.625000</td>\n",
       "      <td>0.009122</td>\n",
       "    </tr>\n",
       "  </tbody>\n",
       "</table>\n",
       "</div>"
      ],
      "text/plain": [
       "         codigo     pulso1     pulso2     altura        peso  varpulse\n",
       "fuma                                                                  \n",
       "no    45.512195  71.707317  71.512195  68.079268  138.195122 -0.000648\n",
       "si    50.875000  74.250000  74.375000  68.031250  148.625000  0.009122"
      ]
     },
     "execution_count": 191,
     "metadata": {},
     "output_type": "execute_result"
    }
   ],
   "source": [
    "nodepor = []\n",
    "for dep in df2.deportista:\n",
    "    if dep == \"no\":\n",
    "        nodepor.append(True)\n",
    "    else:\n",
    "        nodepor.append(False)\n",
    "    \n",
    "nodepor[0:10]\n",
    "\n",
    "nodepor_bools = pd.Series(nodepor)\n",
    "\n",
    "df4 = df2[nodepor]\n",
    "\n",
    "print(df4.varpulse.mean())\n",
    "\n",
    "df4.groupby(\"fuma\").mean()"
   ]
  },
  {
   "cell_type": "code",
   "execution_count": null,
   "metadata": {},
   "outputs": [],
   "source": [
    "# El porcentaje de variacion del pulso entre estudiantes que fuman y no es muy cercano a cero."
   ]
  },
  {
   "cell_type": "markdown",
   "metadata": {},
   "source": [
    "# Calcula el porcentaje medio de variación del pulso por minuto entre antes y después de hacer ejercicio de todos los estudiantes según el tipo de actividad física que realizan. ¿Observas alguna diferencia?"
   ]
  },
  {
   "cell_type": "code",
   "execution_count": 203,
   "metadata": {},
   "outputs": [
    {
     "data": {
      "text/html": [
       "<div>\n",
       "<style scoped>\n",
       "    .dataframe tbody tr th:only-of-type {\n",
       "        vertical-align: middle;\n",
       "    }\n",
       "\n",
       "    .dataframe tbody tr th {\n",
       "        vertical-align: top;\n",
       "    }\n",
       "\n",
       "    .dataframe thead th {\n",
       "        text-align: right;\n",
       "    }\n",
       "</style>\n",
       "<table border=\"1\" class=\"dataframe\">\n",
       "  <thead>\n",
       "    <tr style=\"text-align: right;\">\n",
       "      <th></th>\n",
       "      <th>codigo</th>\n",
       "      <th>pulso1</th>\n",
       "      <th>pulso2</th>\n",
       "      <th>altura</th>\n",
       "      <th>peso</th>\n",
       "      <th>varpulse</th>\n",
       "    </tr>\n",
       "    <tr>\n",
       "      <th>actividad</th>\n",
       "      <th></th>\n",
       "      <th></th>\n",
       "      <th></th>\n",
       "      <th></th>\n",
       "      <th></th>\n",
       "      <th></th>\n",
       "    </tr>\n",
       "  </thead>\n",
       "  <tbody>\n",
       "    <tr>\n",
       "      <th>intensa</th>\n",
       "      <td>43.285714</td>\n",
       "      <td>71.571429</td>\n",
       "      <td>72.190476</td>\n",
       "      <td>69.571429</td>\n",
       "      <td>147.285714</td>\n",
       "      <td>0.013475</td>\n",
       "    </tr>\n",
       "    <tr>\n",
       "      <th>moderada</th>\n",
       "      <td>45.934426</td>\n",
       "      <td>72.737705</td>\n",
       "      <td>82.786885</td>\n",
       "      <td>68.377049</td>\n",
       "      <td>143.754098</td>\n",
       "      <td>0.140157</td>\n",
       "    </tr>\n",
       "    <tr>\n",
       "      <th>nula</th>\n",
       "      <td>1.000000</td>\n",
       "      <td>48.000000</td>\n",
       "      <td>54.000000</td>\n",
       "      <td>68.000000</td>\n",
       "      <td>150.000000</td>\n",
       "      <td>0.125000</td>\n",
       "    </tr>\n",
       "    <tr>\n",
       "      <th>suave</th>\n",
       "      <td>62.888889</td>\n",
       "      <td>79.555556</td>\n",
       "      <td>82.222222</td>\n",
       "      <td>69.111111</td>\n",
       "      <td>149.111111</td>\n",
       "      <td>0.037472</td>\n",
       "    </tr>\n",
       "  </tbody>\n",
       "</table>\n",
       "</div>"
      ],
      "text/plain": [
       "              codigo     pulso1     pulso2     altura        peso  varpulse\n",
       "actividad                                                                  \n",
       "intensa    43.285714  71.571429  72.190476  69.571429  147.285714  0.013475\n",
       "moderada   45.934426  72.737705  82.786885  68.377049  143.754098  0.140157\n",
       "nula        1.000000  48.000000  54.000000  68.000000  150.000000  0.125000\n",
       "suave      62.888889  79.555556  82.222222  69.111111  149.111111  0.037472"
      ]
     },
     "execution_count": 203,
     "metadata": {},
     "output_type": "execute_result"
    }
   ],
   "source": [
    "df2.groupby(\"actividad\").mean()\n"
   ]
  },
  {
   "cell_type": "code",
   "execution_count": null,
   "metadata": {},
   "outputs": [],
   "source": [
    "# Los estudiantes con que realizan actividad fisica intensa o sueave presentan una variacion procentual del pulso\n",
    "# de 1.3 y 3.7% respectivamente mientras que aquellos estudiantes que realizan actividades nula o moderada presentan \n",
    "# una variacion de 12.5 y 14 % respectivamente."
   ]
  }
 ],
 "metadata": {
  "kernelspec": {
   "display_name": "Python 3",
   "language": "python",
   "name": "python3"
  },
  "language_info": {
   "codemirror_mode": {
    "name": "ipython",
    "version": 3
   },
   "file_extension": ".py",
   "mimetype": "text/x-python",
   "name": "python",
   "nbconvert_exporter": "python",
   "pygments_lexer": "ipython3",
   "version": "3.7.6"
  }
 },
 "nbformat": 4,
 "nbformat_minor": 4
}
