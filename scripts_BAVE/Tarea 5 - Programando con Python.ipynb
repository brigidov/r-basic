{
 "cells": [
  {
   "cell_type": "markdown",
   "metadata": {},
   "source": [
    "# 1. Crea una función que reciba los tres coeficientes a, b y c para resolver una ecuación de segundo grado. Muestra la solución por pantalla y ayúdate de la librería Math para acceder a la función raíz cuadrada."
   ]
  },
  {
   "cell_type": "code",
   "execution_count": 1,
   "metadata": {},
   "outputs": [],
   "source": [
    "import math # Se importa la libreria math."
   ]
  },
  {
   "cell_type": "code",
   "execution_count": 2,
   "metadata": {},
   "outputs": [],
   "source": [
    "'''\n",
    "Nombre de la funcion: e2\n",
    "Autor: Brigido Vicuna\n",
    "Fecha: 30/07/2020\n",
    "----\n",
    "Comentarios: La funcion e3 ressuelve ecuaciones cuadraticas de la forma a*x^2 + b*x + c = 0,\n",
    "siendo a, b y c los coeficientes de la ecuacion cuadratica.\n",
    "\n",
    "La funcion e2 solo entregara soluciones pertenecientes al conjunto de numeros reales.\n",
    "\n",
    "Inputs:\n",
    "a: coeficiente cuadratico.\n",
    "b: coeficiente lineal\n",
    "c: termino libre\n",
    "\n",
    "Outputs:\n",
    "sol1: primera solucion de la ecuacion cuadratica.\n",
    "sol2: segunda solucion de la ecuacion cuadratica.\n",
    "'''\n",
    "def e2(a,b,c):\n",
    "    sol1 = (-b + math.sqrt((b**2)-4*a*c))/(2*a)\n",
    "    sol2 = (-b - math.sqrt((b**2)-4*a*c))/(2*a)\n",
    "    return sol1, sol2  "
   ]
  },
  {
   "cell_type": "code",
   "execution_count": 3,
   "metadata": {},
   "outputs": [
    {
     "data": {
      "text/plain": [
       "(-0.09167308680401565, -10.908326913195985)"
      ]
     },
     "execution_count": 3,
     "metadata": {},
     "output_type": "execute_result"
    }
   ],
   "source": [
    "e2(1,11,1)"
   ]
  },
  {
   "cell_type": "markdown",
   "metadata": {},
   "source": [
    "# 2. Crea una función que lea una frase de teclado y nos diga si es o no un palíndromo (frase que se lee igual de izquierda a derecha o al revés como por ejemplo La ruta nos aportó otro paso natural.)"
   ]
  },
  {
   "cell_type": "code",
   "execution_count": 1,
   "metadata": {},
   "outputs": [],
   "source": [
    "'''\n",
    "Nombre de la funcion: Palindromo\n",
    "Autor: Brigido Vicuna\n",
    "Fecha: 30/07/2020\n",
    "----\n",
    "Comentarios: La funcion \"Palindromo\" determina si una frase dada por el usuario es un palindromo, \n",
    "es decir, si dicha frase o palabra se lee igual en un sentido que en otro.\n",
    "\n",
    "Inputs:\n",
    "frase o palabra a evaluar\n",
    "\n",
    "Outputs:\n",
    " - Lista de la frase o palabra escrita por el usuario.\n",
    " - Lista invertida de la frase o palabra escrita por el usuario.\n",
    " - Booleano indicando True si el input es un palindromo o False si no lo es.\n",
    "'''\n",
    "def palindromo():\n",
    "    frase = input(\"Escribe la frase a evaluar sin acentos o signos de puntuacion: \").lower()\n",
    "    L = list(frase)\n",
    "\n",
    "    for l in L:\n",
    "        if l == ' ':\n",
    "            L.remove(l)\n",
    "    print(L)\n",
    "    \n",
    "    Linv = list(frase)\n",
    "    Linv.reverse()\n",
    "\n",
    "    for l in Linv:\n",
    "        if l == ' ':\n",
    "            Linv.remove(l)\n",
    "    print(Linv)\n",
    "    \n",
    "    if L==Linv:\n",
    "        print('La frase escrita es un palindromo')\n",
    "    else:\n",
    "        print('La frase escrita no es un palindromo')"
   ]
  },
  {
   "cell_type": "code",
   "execution_count": 3,
   "metadata": {},
   "outputs": [
    {
     "name": "stdout",
     "output_type": "stream",
     "text": [
      "Escribe la frase a evaluar sin acentos o signos de puntuacion: La ruta nos aporto otro paso natural\n",
      "['l', 'a', 'r', 'u', 't', 'a', 'n', 'o', 's', 'a', 'p', 'o', 'r', 't', 'o', 'o', 't', 'r', 'o', 'p', 'a', 's', 'o', 'n', 'a', 't', 'u', 'r', 'a', 'l']\n",
      "['l', 'a', 'r', 'u', 't', 'a', 'n', 'o', 's', 'a', 'p', 'o', 'r', 't', 'o', 'o', 't', 'r', 'o', 'p', 'a', 's', 'o', 'n', 'a', 't', 'u', 'r', 'a', 'l']\n",
      "La frase escrita es un palindromo\n"
     ]
    }
   ],
   "source": [
    "palindromo()"
   ]
  },
  {
   "cell_type": "markdown",
   "metadata": {},
   "source": [
    "# 3. Crea un diccionario que tenga por claves los números del 1 al 10 y como valores sus raíces cuadradas"
   ]
  },
  {
   "cell_type": "code",
   "execution_count": 5,
   "metadata": {},
   "outputs": [],
   "source": [
    "dict = {\n",
    "    1:math.sqrt(1),\n",
    "    2:math.sqrt(2),\n",
    "    3:math.sqrt(3),\n",
    "    4:math.sqrt(4),\n",
    "    5:math.sqrt(5),\n",
    "    6:math.sqrt(6),\n",
    "    7:math.sqrt(7),\n",
    "    8:math.sqrt(8),\n",
    "    9:math.sqrt(9),\n",
    "    10:math.sqrt(10)\n",
    "}"
   ]
  },
  {
   "cell_type": "code",
   "execution_count": 6,
   "metadata": {},
   "outputs": [
    {
     "data": {
      "text/plain": [
       "{1: 1.0,\n",
       " 2: 1.4142135623730951,\n",
       " 3: 1.7320508075688772,\n",
       " 4: 2.0,\n",
       " 5: 2.23606797749979,\n",
       " 6: 2.449489742783178,\n",
       " 7: 2.6457513110645907,\n",
       " 8: 2.8284271247461903,\n",
       " 9: 3.0,\n",
       " 10: 3.1622776601683795}"
      ]
     },
     "execution_count": 6,
     "metadata": {},
     "output_type": "execute_result"
    }
   ],
   "source": [
    "dict"
   ]
  },
  {
   "cell_type": "markdown",
   "metadata": {},
   "source": [
    "# 4. Crea un diccionario que tenga como claves las letras del alfabeto castellano y como valores los símbolos del código morse (los tienes todos en la Wikipedia). A continuación crea un programa que lea una frase del teclado y te la convierta a Morse utilizando el diccionario anterior."
   ]
  },
  {
   "cell_type": "code",
   "execution_count": null,
   "metadata": {},
   "outputs": [],
   "source": [
    "# Definicion del diccionarion morse_dic.\n",
    "\n",
    "morse_dic = {\n",
    "    'A': '· —',\n",
    "    'B': '— · · ·',\n",
    "    'C': '— · — ·',\n",
    "    'CH': '— — — —',\n",
    "    'D': '— · ·',\n",
    "    'E': '·',\n",
    "    'F': '· · — ·',\n",
    "    'G': '— — ·',\n",
    "    'H': '· · · ·',\n",
    "    'I': '· ·',\n",
    "    'J': '· — — —',\n",
    "    'K': '— · —',\n",
    "    'L': '· — · ·',\n",
    "    'M': '— —',\n",
    "    'N': '— ·',\n",
    "    'Ñ': '— — · — —',\n",
    "    'O': '— — —',\n",
    "    'P': '· — — ·',\n",
    "    'Q': '— — · —',\n",
    "    'R': '· — ·',\n",
    "    'S': '· · ·',\n",
    "    'T': '—',\n",
    "    'U': '· · —',\n",
    "    'V': '· · · —',\n",
    "    'W': '· — —',\n",
    "    'X': '— · · —',\n",
    "    'Y': '— · — —',\n",
    "    'Z': '— — · ·',\n",
    "}"
   ]
  },
  {
   "cell_type": "code",
   "execution_count": 123,
   "metadata": {},
   "outputs": [
    {
     "name": "stdout",
     "output_type": "stream",
     "text": [
      "Escribe la frase aqui: hola\n",
      "La frase \"HOLA\", se traduce a codigo morse de la siguiente manera: · · · ·  — — —  · — · ·  · —\n"
     ]
    }
   ],
   "source": [
    "# Programa para conversion de frase en alfabeto castellano a codigo morse.\n",
    "\n",
    "morse_frase = input('Escribe la frase aqui: ').upper() # Entrada de la frase del usuario converida a caracterez en mayuscula.\n",
    "frase_list = list(morse_frase) # Creacion de una lista de strings.\n",
    "morse_list = [] # Creacion de una lista vacia para contener el codigo morse de la frase.\n",
    "\n",
    "# For lop para llenar la lista morse_list con los valores del dicccionario morse_dic \n",
    "# para cada una de las letres de la lista frase_list.       \n",
    "\n",
    "for l in frase_list:\n",
    "    if l in morse_dic:\n",
    "        morse_list.append(morse_dic[l])\n",
    "\n",
    "morse_list = '  '.join(morse_list) # Generacion de in string separado por espacios.\n",
    "\n",
    "\n",
    "print('La frase \"{}\", se traduce a codigo morse de la siguiente manera: {}'.format(morse_frase, morse_list))"
   ]
  },
  {
   "cell_type": "markdown",
   "metadata": {},
   "source": [
    "# 5. Crea una función que dados dos diccionarios nos diga que claves están presentes en ambos."
   ]
  },
  {
   "cell_type": "code",
   "execution_count": 161,
   "metadata": {},
   "outputs": [],
   "source": [
    "dic1 = {\n",
    "    'a': 1,\n",
    "    'b': 2,\n",
    "    'c': 3,\n",
    "}\n",
    "\n",
    "dic2 = {\n",
    "    'd': 4,\n",
    "    'e':5,\n",
    "    'f':6,\n",
    "}\n"
   ]
  },
  {
   "cell_type": "code",
   "execution_count": 84,
   "metadata": {},
   "outputs": [],
   "source": [
    "'''\n",
    "Nombre de la funcion: keys\n",
    "Autor: Brigido Vicuna\n",
    "Fecha: 31/07/2020\n",
    "----\n",
    "Comentarios: La funcion \"keys\" toma como input dos diccionarios y retorna las claves de cada uno.\n",
    "\n",
    "Inputs:\n",
    "a: diccionario 1.\n",
    "b: diccionario 2.\n",
    "\n",
    "Outputs:\n",
    "Mensaje indicando las claves de cada diccionario.\n",
    "'''\n",
    "\n",
    "def keys(a, b):\n",
    "    keys1 = a.keys()\n",
    "    keys2 = b.keys()\n",
    "    print('Las claves presentes en el diccionario 1 son: {}'.format(list(keys1)))\n",
    "    print('Las claves presentes en el diccionario 2 son: {}'.format(list(keys2)))"
   ]
  },
  {
   "cell_type": "code",
   "execution_count": 85,
   "metadata": {},
   "outputs": [
    {
     "name": "stdout",
     "output_type": "stream",
     "text": [
      "Las claves presentes en el diccionario 1 son: ['a', 'b', 'c']\n",
      "Las claves presentes en el diccionario 2 son: ['d', 'e', 'f']\n"
     ]
    }
   ],
   "source": [
    "keys(dic1,dic2)"
   ]
  },
  {
   "cell_type": "markdown",
   "metadata": {},
   "source": [
    "# 6. Crea una función que dado un número N nos diga si es primo o no (tiene que ir dividiendo por todos los números x comprendidos entre 2 y el propio número N menos uno y ver si el cociente de N/x tiene resto entero o no)."
   ]
  },
  {
   "cell_type": "code",
   "execution_count": 98,
   "metadata": {},
   "outputs": [],
   "source": [
    "'''\n",
    "Nombre de la funcion: primo\n",
    "Autor: Brigido Vicuna\n",
    "Fecha: 31/07/2020\n",
    "----\n",
    "Comentarios: La funcion \"primo\" indica si un numero \"n\" es un numero primo.\n",
    "\n",
    "Inputs:\n",
    "n: numero a evaluar\n",
    "\n",
    "Outputs:\n",
    "Mensaje indicando si \"n\" es primo o no.\n",
    "'''\n",
    "def primo(n):\n",
    "    for i in range(2,n):\n",
    "        if n%i== 0:\n",
    "            print('El numero {} no es un numero primo.'.format(n))\n",
    "            break\n",
    "        elif i == n-1:\n",
    "            print('El numero {} es un numero primo.'.format(n))\n",
    "            "
   ]
  },
  {
   "cell_type": "code",
   "execution_count": 101,
   "metadata": {},
   "outputs": [
    {
     "name": "stdout",
     "output_type": "stream",
     "text": [
      "El numero 15 no es un numero primo.\n"
     ]
    }
   ],
   "source": [
    "primo(15)"
   ]
  },
  {
   "cell_type": "markdown",
   "metadata": {},
   "source": [
    "# 7. Investiga la documentación de la clase string y crea un método que lea una frase del teclado y escriba la primera letra de cada palabra en Mayúscula."
   ]
  },
  {
   "cell_type": "code",
   "execution_count": 4,
   "metadata": {},
   "outputs": [
    {
     "name": "stdout",
     "output_type": "stream",
     "text": [
      "Escribe la frase: organizacion mundial de la salud\n",
      "Organizacion Mundial De La Salud\n"
     ]
    }
   ],
   "source": [
    "# El metodo de strings \"str.title\" retorna en mayuscula la primera letra de cada palabra del string.\n",
    "frase2 = input('Escribe la frase: ')\n",
    "print(frase2.title())"
   ]
  },
  {
   "cell_type": "markdown",
   "metadata": {},
   "source": [
    "# 8. Crea una función que calcule el máximo común divisor de dos números introducidos por el usuario por teclado."
   ]
  },
  {
   "cell_type": "code",
   "execution_count": 159,
   "metadata": {},
   "outputs": [],
   "source": [
    "def mcd ():\n",
    "    a = int(input('Escribe el primer numero: '))\n",
    "    b = int(input('Escribe el segundo numero: '))\n",
    "    print('El maximo comun divisor entre {} y {} es {}.'.format(a,b,math.gcd(a,b)))"
   ]
  },
  {
   "cell_type": "code",
   "execution_count": 160,
   "metadata": {},
   "outputs": [
    {
     "name": "stdout",
     "output_type": "stream",
     "text": [
      "Escribe el primer numero: 10\n",
      "Escribe el segundo numero: 5\n",
      "El maximo comun divisor de 10 y 5 es 5.\n"
     ]
    }
   ],
   "source": [
    "mcd()"
   ]
  },
  {
   "cell_type": "markdown",
   "metadata": {},
   "source": [
    "# 9. Investiga el Cifrado del César y crea una función que lo reproduzca en Python. Cada letra del mensaje original se desplaza tres posiciones en el alfabeto estándar. La A se convierte en la D, la B se convierte en la E, la C se convierte en la F... y cuando se acaba el alfabeto se le vuelve a dar la vuelta: la X se convierte en la A, la Y en la B y la X en la C. Los números no sufren ninguna modificación."
   ]
  },
  {
   "cell_type": "code",
   "execution_count": 1,
   "metadata": {},
   "outputs": [],
   "source": [
    "cifrado_cesar = {\n",
    "    'A': 'D',\n",
    "    'B': 'E',\n",
    "    'C': 'F',\n",
    "    'CH': 'G',\n",
    "    'D': 'H',\n",
    "    'E': 'I',\n",
    "    'F': 'J',\n",
    "    'G': 'K',\n",
    "    'H': 'L',\n",
    "    'I': 'M',\n",
    "    'J': 'N',\n",
    "    'K': 'Ñ',\n",
    "    'L': 'O',\n",
    "    'M': 'P',\n",
    "    'N': 'Q',\n",
    "    'Ñ': 'R',\n",
    "    'O': 'S',\n",
    "    'P': 'T',\n",
    "    'Q': 'U',\n",
    "    'R': 'V',\n",
    "    'S': 'W',\n",
    "    'T': 'X',\n",
    "    'U': 'Y',\n",
    "    'V': 'Z',\n",
    "    'W': 'A',\n",
    "    'X': 'B',\n",
    "    'Y': 'C',\n",
    "    'Z': 'CH',\n",
    "}\n",
    "\n"
   ]
  },
  {
   "cell_type": "code",
   "execution_count": 20,
   "metadata": {},
   "outputs": [],
   "source": [
    "# Programa para cifrar una frase..\n",
    "\n",
    "def cesar():\n",
    "    \n",
    "    frase3 = input('Escribe la frase a cifrar: ').upper() # Entrada de la frase del usuario converida a caracterez en mayuscula.\n",
    "    frase3_list = list(frase3) # Creacion de una lista de strings.\n",
    "    cesar_list = []\n",
    "    \n",
    "    for f in frase3_list:\n",
    "        if f in cifrado_cesar:\n",
    "            cesar_list.append(cifrado_cesar[f])\n",
    "        elif f not in cifrado_cesar:\n",
    "            cesar_list.append(f)\n",
    "    cesar_list = ''.join(cesar_list)\n",
    "    print('La frase cifrada es: {}'.format(cesar_list))\n",
    "            "
   ]
  },
  {
   "cell_type": "code",
   "execution_count": 21,
   "metadata": {},
   "outputs": [
    {
     "name": "stdout",
     "output_type": "stream",
     "text": [
      "Escribe la frase a cifrar: hola, como estas.\n",
      "La frase cifrada es: LSOD, FSPS IWXDW.\n"
     ]
    }
   ],
   "source": [
    "cesar()"
   ]
  },
  {
   "cell_type": "markdown",
   "metadata": {},
   "source": [
    "# 10. Dado una lista de nombres de persona, escribe un algoritmo que los ordene de tres formas diferentes:\n",
    "\n",
    "## A. De forma alfabética\n",
    "\n",
    "## B. De forma alfabética invertida\n",
    "\n",
    "## C. De nombre más corto al más largo."
   ]
  },
  {
   "cell_type": "code",
   "execution_count": 12,
   "metadata": {},
   "outputs": [],
   "source": [
    "def orden():\n",
    "    \n",
    "    nombre = input('Introduzca un nombre: ')\n",
    "    name_list = []\n",
    "    name_list.append(nombre)\n",
    "    \n",
    "    pregunta = input('Desea introducir otro nombre? Y/N: ')\n",
    "    while pregunta == 'Y' or pregunta == 'y':\n",
    "        nombre = input('Introduzca un nombre: ')\n",
    "        name_list.append(nombre)\n",
    "        pregunta = input('Desea introducir otro nombre? Y/N: ')\n",
    "        \n",
    "    print('La lista de nombres introducida es: {}'.format(name_list))\n",
    "    print('La lista de nombres ordenada alfabeticamente es: {}'.format(sorted(name_list)))\n",
    "    print('La lista de nombres de forma alfabetica invertida es: {}'.format(sorted(name_list, reverse = True)))\n",
    "    print('La lista de nombres del mas corto al mas largo es: {}'.format(sorted(name_list, key = len)))\n"
   ]
  },
  {
   "cell_type": "code",
   "execution_count": 13,
   "metadata": {},
   "outputs": [
    {
     "name": "stdout",
     "output_type": "stream",
     "text": [
      "Introduzca un nombre: Josefina\n",
      "Desea introducir otro nombre? Y/N: y\n",
      "Introduzca un nombre: Maria\n",
      "Desea introducir otro nombre? Y/N: y\n",
      "Introduzca un nombre: Daniela\n",
      "Desea introducir otro nombre? Y/N: y\n",
      "Introduzca un nombre: Zorimar\n",
      "Desea introducir otro nombre? Y/N: n\n",
      "La lista de nombres introducida es: ['Josefina', 'Maria', 'Daniela', 'Zorimar']\n",
      "La lista de nombres ordenada alfabeticamente es: ['Daniela', 'Josefina', 'Maria', 'Zorimar']\n",
      "La lista de nombres de forma alfabetica invertida es: ['Zorimar', 'Maria', 'Josefina', 'Daniela']\n",
      "La lista de nombres del mas corto al mas largo es: ['Maria', 'Daniela', 'Zorimar', 'Josefina']\n"
     ]
    }
   ],
   "source": [
    "orden()"
   ]
  },
  {
   "cell_type": "code",
   "execution_count": null,
   "metadata": {},
   "outputs": [],
   "source": []
  }
 ],
 "metadata": {
  "kernelspec": {
   "display_name": "Python 3",
   "language": "python",
   "name": "python3"
  },
  "language_info": {
   "codemirror_mode": {
    "name": "ipython",
    "version": 3
   },
   "file_extension": ".py",
   "mimetype": "text/x-python",
   "name": "python",
   "nbconvert_exporter": "python",
   "pygments_lexer": "ipython3",
   "version": "3.7.6"
  }
 },
 "nbformat": 4,
 "nbformat_minor": 4
}
